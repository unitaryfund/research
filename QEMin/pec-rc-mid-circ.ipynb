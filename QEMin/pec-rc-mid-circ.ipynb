{
 "cells": [
  {
   "cell_type": "markdown",
   "metadata": {},
   "source": [
    "# Benchmarking Quasi-Probabilistic Readout Correction (QPRC) of Mid-Circuit Measurements with Randomized Benchmarking (RB) Circuits\n",
    "\n",
    "The QPRC technique was introduced in the paper Quasi-Probabilistic Readout Correction of Mid-Circuit Measurements for Adaptive Feedback via Measurement Randomized Compiling by Hashim et al. [arXiv:2303.04672](https://arxiv.org/pdf/2303.04672.pdf). \n",
    "As pointed out in the paper, the proposed technique could be useful for mitigating measuement errors in the context of QEC.\n",
    "This notebook is for benchmarking QPRC on RB circuits and investigating possible extensions of the QPRC."
   ]
  },
  {
   "cell_type": "code",
   "execution_count": 3,
   "metadata": {},
   "outputs": [],
   "source": [
    "import cirq\n",
    "import numpy as np"
   ]
  },
  {
   "cell_type": "markdown",
   "metadata": {},
   "source": [
    "1. Construct error-corrected RB circuits from Cirq functions"
   ]
  },
  {
   "cell_type": "code",
   "execution_count": 4,
   "metadata": {},
   "outputs": [],
   "source": [
    "from cirq import InsertStrategy, I, X, Y, Z\n",
    "\n",
    "from cirq.experiments.qubit_characterizations import (\n",
    "    _find_inv_matrix,\n",
    "    _single_qubit_cliffords,\n",
    "    _two_qubit_clifford,\n",
    "    _two_qubit_clifford_matrices,\n",
    ")"
   ]
  },
  {
   "cell_type": "markdown",
   "metadata": {},
   "source": [
    "We'll use 2-qubit RB circuits and 3-qubit repetition code. Use a single, shallow circuit for testing and visualization purposes. "
   ]
  },
  {
   "cell_type": "code",
   "execution_count": 5,
   "metadata": {},
   "outputs": [],
   "source": [
    "num_logical = 2\n",
    "physical_qubits = 3 * num_logical # repetition code\n",
    "n_ancillas = 2 * num_logical\n",
    "n_qubits = physical_qubits + n_ancillas\n",
    "seed = 1\n",
    "num_cliffords = 3\n",
    "qubits = cirq.LineQubit.range(n_qubits)\n",
    "cliffords = _single_qubit_cliffords()\n",
    "rng = np.random.RandomState(seed)\n",
    "trials = 1"
   ]
  },
  {
   "cell_type": "markdown",
   "metadata": {},
   "source": [
    "Set up encoding with 3-qubit repetition code"
   ]
  },
  {
   "cell_type": "code",
   "execution_count": 6,
   "metadata": {},
   "outputs": [],
   "source": [
    "q0, q1, q2, q3, q4, q5, q6, q7, q8, q9 = list(qubits)\n",
    "encoded_subcircuit0_tree= cirq.CNOT(q0, q1), cirq.CNOT(q0, q2)\n",
    "encoded_subcircuit1_tree = cirq.CNOT(q5, q6), cirq.CNOT(q5, q7)\n",
    "encoded_subcircuit = cirq.Circuit([encoded_subcircuit0_tree, encoded_subcircuit1_tree])"
   ]
  },
  {
   "cell_type": "markdown",
   "metadata": {},
   "source": [
    "Construct detection subcircuit to be inserted into RB circuit"
   ]
  },
  {
   "cell_type": "code",
   "execution_count": 7,
   "metadata": {},
   "outputs": [],
   "source": [
    "detect_subcircuit0_tree = [cirq.CNOT(q0, q4), cirq.CNOT(q1, q4), cirq.CNOT(q1, q3), cirq.CNOT(q2, q3), cirq.CNOT(q3, q4), cirq.measure([q3, q4])]\n",
    "detect_subcircuit1_tree = [cirq.CNOT(q5, q9), cirq.CNOT(q6, q9), cirq.CNOT(q6, q8), cirq.CNOT(q7, q8), cirq.CNOT(q8, q9), cirq.measure([q8, q9])]\n",
    "detect_subcircuit = cirq.Circuit([detect_subcircuit0_tree, detect_subcircuit1_tree])"
   ]
  },
  {
   "cell_type": "markdown",
   "metadata": {},
   "source": [
    "Specify the circuit with random Cliffords, append the detection operations, append the inverse circuit operations, and append a second round of detection. "
   ]
  },
  {
   "cell_type": "code",
   "execution_count": 8,
   "metadata": {},
   "outputs": [],
   "source": [
    "clifford_group_size = 11520\n",
    "log_qubits = [qubits[0], qubits[int((physical_qubits + n_ancillas)/num_logical)]]\n",
    "cfd_matrices = _two_qubit_clifford_matrices(\n",
    "            log_qubits[0],\n",
    "            log_qubits[1],\n",
    "            cliffords,\n",
    "        )\n",
    "rb_circuits = []\n",
    "for _ in range(trials):\n",
    "    idx_list = list(rng.choice(clifford_group_size, num_cliffords))\n",
    "    rb_circuit = cirq.Circuit()\n",
    "    for idx in idx_list:\n",
    "        rb_circuit.append(\n",
    "            _two_qubit_clifford(log_qubits[0], log_qubits[1], idx, cliffords)\n",
    "        )\n",
    "    inv_idx = _find_inv_matrix(\n",
    "        cirq.protocols.unitary(rb_circuit), cfd_matrices\n",
    "    )\n",
    "    rb_circuit.append(detect_subcircuit)\n",
    "    rb_circuit.append(\n",
    "        _two_qubit_clifford(log_qubits[0], log_qubits[1], inv_idx, cliffords), strategy=InsertStrategy.INLINE,\n",
    "    )\n",
    "    rb_circuit.append(detect_subcircuit)\n",
    "    rb_circuits.append(rb_circuit)"
   ]
  },
  {
   "cell_type": "markdown",
   "metadata": {},
   "source": [
    "Combine the sub-circuits and print the circuit."
   ]
  },
  {
   "cell_type": "code",
   "execution_count": 9,
   "metadata": {},
   "outputs": [
    {
     "data": {
      "text/html": [
       "<pre style=\"overflow: auto; white-space: pre;\">0: ───@───@───X───────Y^0──────@───Y^0.5────@───X^-0.5───Y^-0.5───X^0.5───X^0.5───Y^-0.5───@───Y^0.5────@───Y^0.5───Y───────X^0───────────────────────────────@───Y^0.5───X^0.5───@───────────────────X^-0.5───Y^0.5──────────@───Y^0.5────@───X^-0.5───Y^-0.5───X^0.5────@───────────────────────\n",
       "      │   │                    │            │                                              │            │                                                     │                   │                                           │            │                              │\n",
       "1: ───X───┼────────────────────┼────────────┼──────────────────────────────────────────────┼────────────┼─────────────────────────────────────────────────────┼───────────────────┼───@───@───────────────────────────────────┼────────────┼──────────────────────────────┼───@───@───────────────\n",
       "          │                    │            │                                              │            │                                                     │                   │   │   │                                   │            │                              │   │   │\n",
       "2: ───────X────────────────────┼────────────┼──────────────────────────────────────────────┼────────────┼─────────────────────────────────────────────────────┼───────────────────┼───┼───┼───@───────────────────────────────┼────────────┼──────────────────────────────┼───┼───┼───@───────────\n",
       "                               │            │                                              │            │                                                     │                   │   │   │   │                               │            │                              │   │   │   │\n",
       "3: ────────────────────────────┼────────────┼──────────────────────────────────────────────┼────────────┼─────────────────────────────────────────────────────┼───────────────────┼───┼───X───X───@───M───────────────────────┼────────────┼──────────────────────────────┼───┼───X───X───@───M───\n",
       "                               │            │                                              │            │                                                     │                   │   │           │   │                       │            │                              │   │           │   │\n",
       "4: ────────────────────────────┼────────────┼──────────────────────────────────────────────┼────────────┼─────────────────────────────────────────────────────┼───────────────────X───X───────────X───M───────────────────────┼────────────┼──────────────────────────────X───X───────────X───M───\n",
       "                               │            │                                              │            │                                                     │                                                               │            │\n",
       "5: ───@───@───Y^0.5───X^-0.5───@───X^-0.5───@───X^0.5────Y^0.5────X^0.5───Y───────X────────@───X^-0.5───@───X^0.5───Y^0.5───X^0.5───Y^-0.5───X^-0.5───Y^0.5───@───Y^0.5───────────@────────────────────────────Y^-0.5───X^0───@───X^-0.5───@─────────────────────Y^-0.5───@───────────────────────\n",
       "      │   │                                                                                                                                                                       │                                                                                       │\n",
       "6: ───X───┼───────────────────────────────────────────────────────────────────────────────────────────────────────────────────────────────────────────────────────────────────────┼───@───@───────────────────────────────────────────────────────────────────────────────┼───@───@───────────────\n",
       "          │                                                                                                                                                                       │   │   │                                                                               │   │   │\n",
       "7: ───────X───────────────────────────────────────────────────────────────────────────────────────────────────────────────────────────────────────────────────────────────────────┼───┼───┼───@───────────────────────────────────────────────────────────────────────────┼───┼───┼───@───────────\n",
       "                                                                                                                                                                                  │   │   │   │                                                                           │   │   │   │\n",
       "8: ───────────────────────────────────────────────────────────────────────────────────────────────────────────────────────────────────────────────────────────────────────────────┼───┼───X───X───@───M───────────────────────────────────────────────────────────────────┼───┼───X───X───@───M───\n",
       "                                                                                                                                                                                  │   │           │   │                                                                   │   │           │   │\n",
       "9: ───────────────────────────────────────────────────────────────────────────────────────────────────────────────────────────────────────────────────────────────────────────────X───X───────────X───M───────────────────────────────────────────────────────────────────X───X───────────X───M───</pre>"
      ],
      "text/plain": [
       "0: ───@───@───X───────Y^0──────@───Y^0.5────@───X^-0.5───Y^-0.5───X^0.5───X^0.5───Y^-0.5───@───Y^0.5────@───Y^0.5───Y───────X^0───────────────────────────────@───Y^0.5───X^0.5───@───────────────────X^-0.5───Y^0.5──────────@───Y^0.5────@───X^-0.5───Y^-0.5───X^0.5────@───────────────────────\n",
       "      │   │                    │            │                                              │            │                                                     │                   │                                           │            │                              │\n",
       "1: ───X───┼────────────────────┼────────────┼──────────────────────────────────────────────┼────────────┼─────────────────────────────────────────────────────┼───────────────────┼───@───@───────────────────────────────────┼────────────┼──────────────────────────────┼───@───@───────────────\n",
       "          │                    │            │                                              │            │                                                     │                   │   │   │                                   │            │                              │   │   │\n",
       "2: ───────X────────────────────┼────────────┼──────────────────────────────────────────────┼────────────┼─────────────────────────────────────────────────────┼───────────────────┼───┼───┼───@───────────────────────────────┼────────────┼──────────────────────────────┼───┼───┼───@───────────\n",
       "                               │            │                                              │            │                                                     │                   │   │   │   │                               │            │                              │   │   │   │\n",
       "3: ────────────────────────────┼────────────┼──────────────────────────────────────────────┼────────────┼─────────────────────────────────────────────────────┼───────────────────┼───┼───X───X───@───M───────────────────────┼────────────┼──────────────────────────────┼───┼───X───X───@───M───\n",
       "                               │            │                                              │            │                                                     │                   │   │           │   │                       │            │                              │   │           │   │\n",
       "4: ────────────────────────────┼────────────┼──────────────────────────────────────────────┼────────────┼─────────────────────────────────────────────────────┼───────────────────X───X───────────X───M───────────────────────┼────────────┼──────────────────────────────X───X───────────X───M───\n",
       "                               │            │                                              │            │                                                     │                                                               │            │\n",
       "5: ───@───@───Y^0.5───X^-0.5───@───X^-0.5───@───X^0.5────Y^0.5────X^0.5───Y───────X────────@───X^-0.5───@───X^0.5───Y^0.5───X^0.5───Y^-0.5───X^-0.5───Y^0.5───@───Y^0.5───────────@────────────────────────────Y^-0.5───X^0───@───X^-0.5───@─────────────────────Y^-0.5───@───────────────────────\n",
       "      │   │                                                                                                                                                                       │                                                                                       │\n",
       "6: ───X───┼───────────────────────────────────────────────────────────────────────────────────────────────────────────────────────────────────────────────────────────────────────┼───@───@───────────────────────────────────────────────────────────────────────────────┼───@───@───────────────\n",
       "          │                                                                                                                                                                       │   │   │                                                                               │   │   │\n",
       "7: ───────X───────────────────────────────────────────────────────────────────────────────────────────────────────────────────────────────────────────────────────────────────────┼───┼───┼───@───────────────────────────────────────────────────────────────────────────┼───┼───┼───@───────────\n",
       "                                                                                                                                                                                  │   │   │   │                                                                           │   │   │   │\n",
       "8: ───────────────────────────────────────────────────────────────────────────────────────────────────────────────────────────────────────────────────────────────────────────────┼───┼───X───X───@───M───────────────────────────────────────────────────────────────────┼───┼───X───X───@───M───\n",
       "                                                                                                                                                                                  │   │           │   │                                                                   │   │           │   │\n",
       "9: ───────────────────────────────────────────────────────────────────────────────────────────────────────────────────────────────────────────────────────────────────────────────X───X───────────X───M───────────────────────────────────────────────────────────────────X───X───────────X───M───"
      ]
     },
     "execution_count": 9,
     "metadata": {},
     "output_type": "execute_result"
    }
   ],
   "source": [
    "corrected_circ = cirq.Circuit([encoded_subcircuit, rb_circuit])\n",
    "corrected_circ"
   ]
  },
  {
   "cell_type": "markdown",
   "metadata": {},
   "source": [
    "2. Add correlated measurement errors"
   ]
  },
  {
   "cell_type": "markdown",
   "metadata": {},
   "source": [
    "3. Apply Randomized Compiling\n",
    "Apply random Paulis and classical bit flip"
   ]
  },
  {
   "cell_type": "code",
   "execution_count": 83,
   "metadata": {},
   "outputs": [],
   "source": [
    "def pauli_twirl(ancillas, seed=None):\n",
    "    rng = np.random.RandomState(seed)\n",
    "    random_paulis = rng.choice([I, X, Y, Z], size=len(ancillas))\n",
    "    conditional_bitflip = [(X if r in [X, Y] else I) for r in random_paulis] # TODO must change to classical logic for HW or complex simulated noise models\n",
    "    return [(p.on(ancillas[r]), conditional_bitflip[r].on(ancillas[r])) for r, p in enumerate(random_paulis)]"
   ]
  },
  {
   "cell_type": "code",
   "execution_count": 93,
   "metadata": {},
   "outputs": [],
   "source": [
    "def qprc_ops(ancillas, noise_level, seed=None):\n",
    "    rng = np.random.RandomState(seed)\n",
    "    ops = [I, X]\n",
    "    sampled_ops = rng.choice(ops, size=len(ancillas), p=[1 - noise_level, noise_level])\n",
    "    return [s.on(ancillas[q]) for q, s in enumerate(sampled_ops)]"
   ]
  },
  {
   "cell_type": "code",
   "execution_count": 43,
   "metadata": {},
   "outputs": [],
   "source": [
    "def detect(qubits):\n",
    "    q0, q1, q2, q3, q4, q5, q6, q7, q8, q9  = qubits\n",
    "    detect_subcircuit0_tree = [cirq.CNOT(q0, q4), cirq.CNOT(q1, q4), cirq.CNOT(q1, q3), cirq.CNOT(q2, q3), cirq.CNOT(q3, q4), cirq.measure([q3, q4])]\n",
    "    detect_subcircuit1_tree = [cirq.CNOT(q5, q9), cirq.CNOT(q6, q9), cirq.CNOT(q6, q8), cirq.CNOT(q7, q8), cirq.CNOT(q8, q9), cirq.measure([q8, q9])]\n",
    "    return cirq.Circuit([detect_subcircuit0_tree, detect_subcircuit1_tree])"
   ]
  },
  {
   "cell_type": "code",
   "execution_count": 44,
   "metadata": {},
   "outputs": [
    {
     "data": {
      "text/html": [
       "<pre style=\"overflow: auto; white-space: pre;\">0: ───@───────────────────────\n",
       "      │\n",
       "1: ───┼───@───@───────────────\n",
       "      │   │   │\n",
       "2: ───┼───┼───┼───@───────────\n",
       "      │   │   │   │\n",
       "3: ───┼───┼───X───X───@───M───\n",
       "      │   │           │   │\n",
       "4: ───X───X───────────X───M───\n",
       "\n",
       "5: ───@───────────────────────\n",
       "      │\n",
       "6: ───┼───@───@───────────────\n",
       "      │   │   │\n",
       "7: ───┼───┼───┼───@───────────\n",
       "      │   │   │   │\n",
       "8: ───┼───┼───X───X───@───M───\n",
       "      │   │           │   │\n",
       "9: ───X───X───────────X───M───</pre>"
      ],
      "text/plain": [
       "0: ───@───────────────────────\n",
       "      │\n",
       "1: ───┼───@───@───────────────\n",
       "      │   │   │\n",
       "2: ───┼───┼───┼───@───────────\n",
       "      │   │   │   │\n",
       "3: ───┼───┼───X───X───@───M───\n",
       "      │   │           │   │\n",
       "4: ───X───X───────────X───M───\n",
       "\n",
       "5: ───@───────────────────────\n",
       "      │\n",
       "6: ───┼───@───@───────────────\n",
       "      │   │   │\n",
       "7: ───┼───┼───┼───@───────────\n",
       "      │   │   │   │\n",
       "8: ───┼───┼───X───X───@───M───\n",
       "      │   │           │   │\n",
       "9: ───X───X───────────X───M───"
      ]
     },
     "execution_count": 44,
     "metadata": {},
     "output_type": "execute_result"
    }
   ],
   "source": [
    "testqbits = cirq.LineQubit.range(10)\n",
    "test_detect = detect(testqbits)\n",
    "test_detect"
   ]
  },
  {
   "cell_type": "code",
   "execution_count": 39,
   "metadata": {},
   "outputs": [
    {
     "data": {
      "text/html": [
       "<pre style=\"overflow: auto; white-space: pre;\">0: ───X───M───Z───M───\n",
       "          │       │\n",
       "1: ───Z───M───X───M───\n",
       "          │       │\n",
       "2: ───I───M───Z───M───\n",
       "          │       │\n",
       "3: ───I───M───X───M───</pre>"
      ],
      "text/plain": [
       "0: ───X───M───Z───M───\n",
       "          │       │\n",
       "1: ───Z───M───X───M───\n",
       "          │       │\n",
       "2: ───I───M───Z───M───\n",
       "          │       │\n",
       "3: ───I───M───X───M───"
      ]
     },
     "execution_count": 39,
     "metadata": {},
     "output_type": "execute_result"
    }
   ],
   "source": [
    "testqbits = cirq.LineQubit.range(4)\n",
    "twirls = pauli_twirl(testqbits, 2, 1)\n",
    "cirq.Circuit(list(zip(*twirls[:4]))[0], cirq.measure(testqbits), list(zip(*twirls[4:]))[0], cirq.measure(testqbits))"
   ]
  },
  {
   "cell_type": "code",
   "execution_count": 94,
   "metadata": {},
   "outputs": [],
   "source": [
    "def mitigated_detect(qubits, noise_level):\n",
    "    q0, q1, q2, q3, q4, q5, q6, q7, q8, q9  = qubits\n",
    "    twirl = pauli_twirl([q3, q4, q8, q9], 1)\n",
    "    bitflip = list(zip(*twirl))[1]\n",
    "    detect_subcircuit0_tree = [cirq.CNOT(q0, q4), cirq.CNOT(q1, q4), cirq.CNOT(q1, q3), cirq.CNOT(q2, q3), cirq.CNOT(q3, q4), list(zip(*twirl[0:2]))[0], qprc_ops([q3, q4], noise_level), cirq.measure([q3, q4]), bitflip[0:2]]\n",
    "    detect_subcircuit1_tree = [cirq.CNOT(q5, q9), cirq.CNOT(q6, q9), cirq.CNOT(q6, q8), cirq.CNOT(q7, q8), cirq.CNOT(q8, q9), list(zip(*twirl[2:4]))[0], qprc_ops([q8, q9], noise_level), cirq.measure([q8, q9]), bitflip[2:4]]\n",
    "    return cirq.Circuit([detect_subcircuit0_tree, detect_subcircuit1_tree], strategy=InsertStrategy.EARLIEST)"
   ]
  },
  {
   "cell_type": "code",
   "execution_count": 96,
   "metadata": {},
   "outputs": [
    {
     "data": {
      "text/html": [
       "<pre style=\"overflow: auto; white-space: pre;\">0: ───@───────────────────────────────────\n",
       "      │\n",
       "1: ───┼───@───@───────────────────────────\n",
       "      │   │   │\n",
       "2: ───┼───┼───┼───@───────────────────────\n",
       "      │   │   │   │\n",
       "3: ───┼───┼───X───X───@───X───I───M───X───\n",
       "      │   │           │           │\n",
       "4: ───X───X───────────X───Z───I───M───I───\n",
       "\n",
       "5: ───@───────────────────────────────────\n",
       "      │\n",
       "6: ───┼───@───@───────────────────────────\n",
       "      │   │   │\n",
       "7: ───┼───┼───┼───@───────────────────────\n",
       "      │   │   │   │\n",
       "8: ───┼───┼───X───X───@───I───X───M───I───\n",
       "      │   │           │           │\n",
       "9: ───X───X───────────X───I───I───M───I───</pre>"
      ],
      "text/plain": [
       "0: ───@───────────────────────────────────\n",
       "      │\n",
       "1: ───┼───@───@───────────────────────────\n",
       "      │   │   │\n",
       "2: ───┼───┼───┼───@───────────────────────\n",
       "      │   │   │   │\n",
       "3: ───┼───┼───X───X───@───X───I───M───X───\n",
       "      │   │           │           │\n",
       "4: ───X───X───────────X───Z───I───M───I───\n",
       "\n",
       "5: ───@───────────────────────────────────\n",
       "      │\n",
       "6: ───┼───@───@───────────────────────────\n",
       "      │   │   │\n",
       "7: ───┼───┼───┼───@───────────────────────\n",
       "      │   │   │   │\n",
       "8: ───┼───┼───X───X───@───I───X───M───I───\n",
       "      │   │           │           │\n",
       "9: ───X───X───────────X───I───I───M───I───"
      ]
     },
     "execution_count": 96,
     "metadata": {},
     "output_type": "execute_result"
    }
   ],
   "source": [
    "tqbits = cirq.LineQubit.range(10)\n",
    "test_detect_mitigated = mitigated_detect(tqbits, 0.2)\n",
    "test_detect_mitigated"
   ]
  },
  {
   "cell_type": "code",
   "execution_count": null,
   "metadata": {},
   "outputs": [],
   "source": [
    "def rb_with_rc_qprc(ancillas, samples, noise_level, seed):\n",
    "    \n",
    "\n",
    "    clifford_group_size = 11520\n",
    "    log_qubits = [qubits[0], qubits[int((physical_qubits + ancillas)/num_logical)]]\n",
    "    cfd_matrices = _two_qubit_clifford_matrices(\n",
    "            log_qubits[0],\n",
    "            log_qubits[1],\n",
    "            cliffords,\n",
    "        )\n",
    "    rc_circuits = []\n",
    "    # list of Pauli sub-circuits to sample from \n",
    "\n",
    "    for _ in range(samples):\n",
    "        idx_list = list(rng.choice(clifford_group_size, num_cliffords))\n",
    "        rb_circuit = cirq.Circuit()\n",
    "        for idx in idx_list:\n",
    "            rb_circuit.append(\n",
    "                _two_qubit_clifford(log_qubits[0], log_qubits[1], idx, cliffords)\n",
    "            )\n",
    "        inv_idx = _find_inv_matrix(\n",
    "            cirq.protocols.unitary(rb_circuit), cfd_matrices\n",
    "        )\n",
    "        rb_circuit.append(detect_subcircuit)\n",
    "        rb_circuit.append(\n",
    "            _two_qubit_clifford(log_qubits[0], log_qubits[1], inv_idx, cliffords), strategy=InsertStrategy.INLINE,\n",
    "        )\n",
    "        rb_circuit.append(detect_subcircuit)\n",
    "        rc_circuits.append(rb_circuit)"
   ]
  },
  {
   "cell_type": "code",
   "execution_count": null,
   "metadata": {},
   "outputs": [],
   "source": [
    "twirled_detect0 = (cirq.Circuit(pauli(q3), pauli(q4)), bit_flip) \n",
    "twirled_detect1 = (cirq.Circuit(pauli(q8), pauli(q9)), bit_flip)"
   ]
  },
  {
   "cell_type": "markdown",
   "metadata": {},
   "source": [
    "Detect subcircuit should have (independently) randomly sampled Paulis \n"
   ]
  },
  {
   "cell_type": "code",
   "execution_count": null,
   "metadata": {},
   "outputs": [],
   "source": [
    "clifford_group_size = 11520\n",
    "log_qubits = [qubits[0], qubits[int((physical_qubits + ancillas)/num_logical)]]\n",
    "cfd_matrices = _two_qubit_clifford_matrices(\n",
    "            log_qubits[0],\n",
    "            log_qubits[1],\n",
    "            cliffords,\n",
    "        )\n",
    "rc_circuits = []\n",
    "# list of Pauli sub-circuits to sample from \n",
    "\n",
    "for _ in range(samples):\n",
    "    idx_list = list(rng.choice(clifford_group_size, num_cliffords))\n",
    "    rb_circuit = cirq.Circuit()\n",
    "    for idx in idx_list:\n",
    "        rb_circuit.append(\n",
    "            _two_qubit_clifford(log_qubits[0], log_qubits[1], idx, cliffords)\n",
    "        )\n",
    "    inv_idx = _find_inv_matrix(\n",
    "        cirq.protocols.unitary(rb_circuit), cfd_matrices\n",
    "    )\n",
    "    rb_circuit.append(detect_subcircuit)\n",
    "    rb_circuit.append(\n",
    "        _two_qubit_clifford(log_qubits[0], log_qubits[1], inv_idx, cliffords), strategy=InsertStrategy.INLINE,\n",
    "    )\n",
    "    rb_circuit.append(detect_subcircuit)\n",
    "    rc_circuits.append(rb_circuit)"
   ]
  },
  {
   "cell_type": "markdown",
   "metadata": {},
   "source": [
    "4. Apply PEC after RC and before measurement"
   ]
  },
  {
   "cell_type": "markdown",
   "metadata": {},
   "source": [
    "5. Once this workflow is working, try noise scaling at, e.g. different sampling overheads, noise levels in representations, etc."
   ]
  }
 ],
 "metadata": {
  "interpreter": {
   "hash": "a2bfaf3203c43218cca0039323443e7f8a5a075bcf5e96560d09863a3bb970ba"
  },
  "kernelspec": {
   "display_name": "Python 3.10.4 64-bit ('stim-ds-zne')",
   "language": "python",
   "name": "python3"
  },
  "language_info": {
   "codemirror_mode": {
    "name": "ipython",
    "version": 3
   },
   "file_extension": ".py",
   "mimetype": "text/x-python",
   "name": "python",
   "nbconvert_exporter": "python",
   "pygments_lexer": "ipython3",
   "version": "3.10.4"
  },
  "orig_nbformat": 4
 },
 "nbformat": 4,
 "nbformat_minor": 2
}
